{
 "cells": [
  {
   "cell_type": "code",
   "execution_count": 1,
   "metadata": {},
   "outputs": [],
   "source": [
    "import os\n",
    "log_dir = \"/radar-imaging-dataset/P2SIF/data-collection/Scripts/logs/\"\n",
    "log_files = [f.path for f in os.scandir(log_dir) if f.is_file()]\n",
    "log_files.sort()\n",
    "for log_file in log_files:\n",
    "    log_file_num = log_file.split(\"/\")[-1].split(\".\")[0][3:]\n",
    "    with open(log_file) as f:\n",
    "        lines = f.readlines()\n",
    "        for line in lines:\n",
    "            if \"Error\" in line:\n",
    "                print(\"Error in log file: \", log_file_num)\n",
    "                print(line)\n",
    "                continue"
   ]
  }
 ],
 "metadata": {
  "kernelspec": {
   "display_name": "Python 3",
   "language": "python",
   "name": "python3"
  },
  "language_info": {
   "codemirror_mode": {
    "name": "ipython",
    "version": 3
   },
   "file_extension": ".py",
   "mimetype": "text/x-python",
   "name": "python",
   "nbconvert_exporter": "python",
   "pygments_lexer": "ipython3",
   "version": "3.8.10"
  }
 },
 "nbformat": 4,
 "nbformat_minor": 2
}
